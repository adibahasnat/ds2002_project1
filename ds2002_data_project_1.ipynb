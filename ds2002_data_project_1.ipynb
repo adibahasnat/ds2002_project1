{
  "nbformat": 4,
  "nbformat_minor": 0,
  "metadata": {
    "colab": {
      "provenance": []
    },
    "kernelspec": {
      "name": "python3",
      "display_name": "Python 3"
    },
    "language_info": {
      "name": "python"
    }
  },
  "cells": [
    {
      "cell_type": "code",
      "execution_count": 1,
      "metadata": {
        "colab": {
          "base_uri": "https://localhost:8080/"
        },
        "id": "o6ucMPXoxQ4q",
        "outputId": "313a1ca6-8b5a-418e-eb49-f96348bc4959"
      },
      "outputs": [
        {
          "output_type": "stream",
          "name": "stdout",
          "text": [
            "Anime CSV data loaded successfully\n",
            "WizardWorld API data loaded successfully\n"
          ]
        }
      ],
      "source": [
        "import pandas as pd\n",
        "import requests\n",
        "\n",
        "# CSV data\n",
        "anime_data = pd.read_csv('/content/anime.csv')\n",
        "\n",
        "# fetch JSON data from the API\n",
        "url = \"https://wizard-world-api.herokuapp.com/Elixirs\"\n",
        "response = requests.get(url)\n",
        "wizard_data = response.json()\n",
        "\n",
        "print(\"Anime CSV data loaded successfully\")\n",
        "print(\"WizardWorld API data loaded successfully\")"
      ]
    },
    {
      "cell_type": "code",
      "source": [
        "import requests\n",
        "import json\n",
        "\n",
        "# Fetch the JSON data from the API\n",
        "response = requests.get(url)\n",
        "elixirs_data = response.json()\n"
      ],
      "metadata": {
        "id": "Hz1zu8AKHFIP"
      },
      "execution_count": 2,
      "outputs": []
    },
    {
      "cell_type": "code",
      "source": [
        "# Number of records and columns in the CSV\n",
        "csv_num_records = anime_data.shape[0]\n",
        "csv_num_columns = anime_data.shape[1]\n",
        "\n",
        "print(f\"CSV Data: {csv_num_records} records, {csv_num_columns} columns\")\n"
      ],
      "metadata": {
        "colab": {
          "base_uri": "https://localhost:8080/"
        },
        "id": "n1YjqBaNHRu9",
        "outputId": "c1820a40-e72c-48e9-bf57-df5c24fb128d"
      },
      "execution_count": 3,
      "outputs": [
        {
          "output_type": "stream",
          "name": "stdout",
          "text": [
            "CSV Data: 17562 records, 35 columns\n"
          ]
        }
      ]
    },
    {
      "cell_type": "code",
      "source": [
        "# Number of records in JSON (number of items in the list)\n",
        "json_num_records = len(elixirs_data)\n",
        "\n",
        "# Assuming all records have the same fields, count the keys in the first record\n",
        "json_num_columns = len(elixirs_data[0]) if json_num_records > 0 else 0\n",
        "\n",
        "print(f\"JSON Data: {json_num_records} records, {json_num_columns} columns\")\n"
      ],
      "metadata": {
        "colab": {
          "base_uri": "https://localhost:8080/"
        },
        "id": "Cdxq-5sJHVUl",
        "outputId": "152207fd-6f0e-4724-a984-5b4518d5e604"
      },
      "execution_count": 4,
      "outputs": [
        {
          "output_type": "stream",
          "name": "stdout",
          "text": [
            "JSON Data: 145 records, 10 columns\n"
          ]
        }
      ]
    },
    {
      "cell_type": "code",
      "source": [
        "# Convert CSV to JSON format\n",
        "csv_to_json = anime_data.to_json(orient='records')\n",
        "\n",
        "# Write to a file\n",
        "with open('anime_data.json', 'w') as json_file:\n",
        "    json_file.write(csv_to_json)\n",
        "\n",
        "print(\"CSV successfully converted to JSON and saved to 'anime_data.json'\")\n",
        "\n"
      ],
      "metadata": {
        "id": "DcCUxDTNSeG3",
        "colab": {
          "base_uri": "https://localhost:8080/"
        },
        "outputId": "a5e39b43-e752-4a49-a562-2ea2610bf277"
      },
      "execution_count": 5,
      "outputs": [
        {
          "output_type": "stream",
          "name": "stdout",
          "text": [
            "CSV successfully converted to JSON and saved to 'anime_data.json'\n"
          ]
        }
      ]
    },
    {
      "cell_type": "code",
      "source": [
        "import pandas as pd\n",
        "\n",
        "# Convert JSON to DataFrame\n",
        "elixirs_df = pd.DataFrame(elixirs_data)\n",
        "\n",
        "# Save as CSV\n",
        "elixirs_df.to_csv('elixirs_data.csv', index=False)\n",
        "\n",
        "print(\"JSON successfully converted to CSV and saved to 'elixirs_data.csv'\")\n"
      ],
      "metadata": {
        "colab": {
          "base_uri": "https://localhost:8080/"
        },
        "id": "cYeAz1iTHhse",
        "outputId": "de2af2f3-9440-4f79-e5eb-dc40628c2aff"
      },
      "execution_count": 6,
      "outputs": [
        {
          "output_type": "stream",
          "name": "stdout",
          "text": [
            "JSON successfully converted to CSV and saved to 'elixirs_data.csv'\n"
          ]
        }
      ]
    },
    {
      "cell_type": "code",
      "source": [
        "# Drop a column (for example, 'type' column)\n",
        "modified_anime_data = anime_data.drop(columns=['Japanese name', 'Licensors', 'Plan to Watch'], errors='ignore')\n",
        "\n",
        "# Save the modified CSV\n",
        "modified_anime_data.to_csv('modified_anime_data.csv', index=False)\n",
        "\n",
        "print(\"Modified CSV saved as 'modified_anime_data.csv'\")\n"
      ],
      "metadata": {
        "colab": {
          "base_uri": "https://localhost:8080/"
        },
        "id": "Bio8OB9kHoTG",
        "outputId": "eaf4e46a-62f6-4ac1-aa6c-74749b6b0fec"
      },
      "execution_count": 9,
      "outputs": [
        {
          "output_type": "stream",
          "name": "stdout",
          "text": [
            "Modified CSV saved as 'modified_anime_data.csv'\n"
          ]
        }
      ]
    },
    {
      "cell_type": "code",
      "source": [
        "# Drop a column (for example, 'id' column from elixirs)\n",
        "modified_elixirs_df = elixirs_df.drop(columns=['id'], errors='ignore')\n",
        "\n",
        "# Save the modified JSON as CSV again\n",
        "modified_elixirs_df.to_csv('modified_elixirs_data.csv', index=False)\n",
        "\n",
        "print(\"Modified JSON saved as CSV: 'modified_elixirs_data.csv'\")\n"
      ],
      "metadata": {
        "colab": {
          "base_uri": "https://localhost:8080/"
        },
        "id": "dHOkeKTnMLEl",
        "outputId": "fe7e9cf6-281b-4593-d376-be9880479e74"
      },
      "execution_count": 11,
      "outputs": [
        {
          "output_type": "stream",
          "name": "stdout",
          "text": [
            "Modified JSON saved as CSV: 'modified_elixirs_data.csv'\n"
          ]
        }
      ]
    },
    {
      "cell_type": "code",
      "source": [
        "import sqlite3\n",
        "\n",
        "# Connect to a database (or create one)\n",
        "conn = sqlite3.connect('anime.db')\n",
        "cursor = conn.cursor()\n",
        "\n",
        "# Insert CSV data into SQLite\n",
        "anime_data.to_sql('anime_table', conn, if_exists='replace', index=False)\n",
        "\n",
        "# Check the data types of the JSON data (elixirs_df)\n",
        "print(elixirs_df.dtypes)\n",
        "\n",
        "# Convert incompatible columns to strings if needed\n",
        "elixirs_df = elixirs_df.applymap(lambda x: str(x) if isinstance(x, (list, dict)) else x)\n",
        "\n",
        "# Insert JSON data into SQLite\n",
        "elixirs_df.to_sql('elixirs_table', conn, if_exists='replace', index=False)\n",
        "\n",
        "# Commit and close the connection\n",
        "conn.commit()\n",
        "conn.close()\n",
        "\n",
        "print(\"Data successfully saved to SQLite database 'anime.db'\")\n",
        "\n"
      ],
      "metadata": {
        "colab": {
          "base_uri": "https://localhost:8080/"
        },
        "id": "BuUgq64JMd7T",
        "outputId": "8b4a98ca-a7fb-4ed6-edcc-7f1f609fb7d7"
      },
      "execution_count": 14,
      "outputs": [
        {
          "output_type": "stream",
          "name": "stdout",
          "text": [
            "id                 object\n",
            "name               object\n",
            "effect             object\n",
            "sideEffects        object\n",
            "characteristics    object\n",
            "time               object\n",
            "difficulty         object\n",
            "ingredients        object\n",
            "inventors          object\n",
            "manufacturer       object\n",
            "dtype: object\n",
            "Data successfully saved to SQLite database 'anime.db'\n"
          ]
        },
        {
          "output_type": "stream",
          "name": "stderr",
          "text": [
            "<ipython-input-14-78f575af3731>:14: FutureWarning: DataFrame.applymap has been deprecated. Use DataFrame.map instead.\n",
            "  elixirs_df = elixirs_df.applymap(lambda x: str(x) if isinstance(x, (list, dict)) else x)\n"
          ]
        }
      ]
    },
    {
      "cell_type": "code",
      "source": [
        "modified_csv_num_records = modified_anime_data.shape[0]\n",
        "modified_csv_num_columns = modified_anime_data.shape[1]\n",
        "\n",
        "print(f\"Modified CSV Data: {modified_csv_num_records} records, {modified_csv_num_columns} columns\")\n"
      ],
      "metadata": {
        "colab": {
          "base_uri": "https://localhost:8080/"
        },
        "id": "aOPNStFzNylf",
        "outputId": "9ace576f-8130-4e6f-f2af-beeeccc3e636"
      },
      "execution_count": 15,
      "outputs": [
        {
          "output_type": "stream",
          "name": "stdout",
          "text": [
            "Modified CSV Data: 17562 records, 32 columns\n"
          ]
        }
      ]
    },
    {
      "cell_type": "code",
      "source": [
        "modified_json_num_records = modified_elixirs_df.shape[0]\n",
        "modified_json_num_columns = modified_elixirs_df.shape[1]\n",
        "\n",
        "print(f\"Modified JSON Data: {modified_json_num_records} records, {modified_json_num_columns} columns\")\n"
      ],
      "metadata": {
        "colab": {
          "base_uri": "https://localhost:8080/"
        },
        "id": "dYi9CqPIN0Iq",
        "outputId": "dcb7069d-56b2-488e-ae80-77b69352d625"
      },
      "execution_count": 16,
      "outputs": [
        {
          "output_type": "stream",
          "name": "stdout",
          "text": [
            "Modified JSON Data: 145 records, 9 columns\n"
          ]
        }
      ]
    },
    {
      "cell_type": "code",
      "source": [
        "try:\n",
        "    # Your file reading, processing, or API call code\n",
        "    response = requests.get(url)\n",
        "    response.raise_for_status()  # Raises an error for bad responses (4xx or 5xx)\n",
        "    elixirs_data = response.json()\n",
        "except requests.exceptions.RequestException as e:\n",
        "    print(f\"Error fetching JSON data: {e}\")\n"
      ],
      "metadata": {
        "id": "PCVtKbf1N5Ph"
      },
      "execution_count": 19,
      "outputs": []
    }
  ]
}